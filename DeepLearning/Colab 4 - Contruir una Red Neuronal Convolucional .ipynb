{
 "cells": [
  {
   "cell_type": "markdown",
   "metadata": {},
   "source": [
    "  <font color=gray>Este dataset __cifar10__ es un conjunto de 60.000 imagenes de 32X32 usado para el Computer Vision con 10 clases de objetos a color el cual cada uno contiene 6.000 imgs. [https://www.kaggle.com/c/cifar-10/data]</font>"
   ]
  },
  {
   "cell_type": "code",
   "execution_count": 1,
   "metadata": {},
   "outputs": [
    {
     "data": {
      "text/plain": [
       "'2.1.0'"
      ]
     },
     "execution_count": 1,
     "metadata": {},
     "output_type": "execute_result"
    }
   ],
   "source": [
    "# Paso 1 & 2 Instalación e Importación dedependencias\n",
    "import tensorflow as tf\n",
    "import matplotlib.pyplot as plt\n",
    "from tensorflow.keras.datasets import cifar10\n",
    "\n",
    "%matplotlib inline\n",
    "tf.__version__"
   ]
  },
  {
   "cell_type": "code",
   "execution_count": 2,
   "metadata": {},
   "outputs": [],
   "source": [
    "# Paso 3 : Pre procesado de datos\n",
    "# Configurar el nombre de las clases del dataset\n",
    "class_names = ['avión', 'coche', 'pájaro', 'gato', 'ciervo', 'perro', 'rana', 'caballo', 'barco', 'camión']"
   ]
  },
  {
   "cell_type": "code",
   "execution_count": 3,
   "metadata": {
    "scrolled": true
   },
   "outputs": [
    {
     "name": "stdout",
     "output_type": "stream",
     "text": [
      "Downloading data from https://www.cs.toronto.edu/~kriz/cifar-10-python.tar.gz\n",
      "170500096/170498071 [==============================] - 192s 1us/step\n"
     ]
    }
   ],
   "source": [
    "(X_train, y_train), (X_test, y_test) = cifar10.load_data()"
   ]
  },
  {
   "cell_type": "code",
   "execution_count": 4,
   "metadata": {},
   "outputs": [],
   "source": [
    "X_train = X_train / 255\n",
    "X_test = X_test / 255"
   ]
  },
  {
   "cell_type": "code",
   "execution_count": 5,
   "metadata": {},
   "outputs": [
    {
     "data": {
      "text/plain": [
       "(50000, 32, 32, 3)"
      ]
     },
     "execution_count": 5,
     "metadata": {},
     "output_type": "execute_result"
    }
   ],
   "source": [
    "# Tridimensional\n",
    "X_train.shape"
   ]
  },
  {
   "cell_type": "code",
   "execution_count": 6,
   "metadata": {},
   "outputs": [
    {
     "data": {
      "text/plain": [
       "<matplotlib.image.AxesImage at 0x1eed0920148>"
      ]
     },
     "execution_count": 6,
     "metadata": {},
     "output_type": "execute_result"
    },
    {
     "data": {
      "image/png": "[encoded data removed]",
      "text/plain": [
       "<Figure size 432x288 with 1 Axes>"
      ]
     },
     "metadata": {
      "needs_background": "light"
     },
     "output_type": "display_data"
    }
   ],
   "source": [
    "plt.imshow(X_test[10])"
   ]
  },
  {
   "cell_type": "code",
   "execution_count": 7,
   "metadata": {},
   "outputs": [
    {
     "data": {
      "text/plain": [
       "array([0], dtype=uint8)"
      ]
     },
     "execution_count": 7,
     "metadata": {},
     "output_type": "execute_result"
    }
   ],
   "source": [
    "y_test[10]"
   ]
  },
  {
   "cell_type": "code",
   "execution_count": 8,
   "metadata": {},
   "outputs": [],
   "source": [
    "# Paso 4 Construir una red neuronal convolucional\n",
    "# definir el modelo como instancia de la clase Sequential\n",
    "model = tf.keras.models.Sequential()"
   ]
  },
  {
   "cell_type": "markdown",
   "metadata": {},
   "source": [
    "**Hyper parámetros de la capa de la RNC:**\n",
    "\n",
    "    Filtros: 32\n",
    "    Tamaño del kernel: 3\n",
    "    padding: same\n",
    "    Función de Activación: relu\n",
    "    input_shape: (32, 32, 3)\n"
   ]
  },
  {
   "cell_type": "markdown",
   "metadata": {},
   "source": [
    " <font color=gray>Capa convolucional, **32 filtros**, con **3 puntos horizontal y vertical**\n",
    "El **kernel** nos permite hacer la media, la ponderación la convolución o producto convolucional del quernel con la capa\n",
    "de la imagen, **padding** es el margen con respecto a los bordes para que el filtro pase por las pocisiones y tome mas o\n",
    "menos el mismo valor => [https://www.pico.net/kb/what-is-the-difference-between-same-and-valid-padding-in-tf-nn-max-pool-of-tensorflow]. **En el input shape** ya no se recibe un vector son imagenes de 32X32 por 3 canales de color (RGB)</font>"
   ]
  },
  {
   "cell_type": "code",
   "execution_count": 9,
   "metadata": {
    "scrolled": true
   },
   "outputs": [],
   "source": [
    "# Capa 1 : Input\n",
    "model.add(tf.keras.layers.Conv2D(filters=32, kernel_size=3, padding=\"same\", activation=\"relu\", input_shape=[32, 32, 3]))"
   ]
  },
  {
   "cell_type": "markdown",
   "metadata": {},
   "source": [
    "**Hyper parámetros de la capa de la RNC:**\n",
    "\n",
    "    Filtros: 32\n",
    "    Tamaño del kernel: 3\n",
    "    padding: same\n",
    "    Función de Activación: relu\n"
   ]
  },
  {
   "cell_type": "markdown",
   "metadata": {},
   "source": [
    "**Hyper parámetros de la capa de MaxPool:**\n",
    "\n",
    "    pool_size: 2\n",
    "    strides: 2\n",
    "    padding: valid"
   ]
  },
  {
   "cell_type": "markdown",
   "metadata": {},
   "source": [
    "<font color=gray>MaxPooling moviendo 2 pocisiones en horizontal y vertical en una ventana, se va a quedar con el valor mas alto, despues de aplicar la convolución, el Maxpooling reducira el tamaño de la imagen. **IMPORTANTE** En consecuencia de como se comporta el paddin en la Conv2d (tomando un conjunto de 0roz)  es posible que se pierdan datos allí, por eso MaxPool2D tomara los valores (los rasgos mas may) para la convolución **por medio de un padding valido** </font> "
   ]
  },
  {
   "cell_type": "code",
   "execution_count": 10,
   "metadata": {},
   "outputs": [],
   "source": [
    "# Capa 2 : Capa convolucional Conv2D de padding same y la Capa convolucional MaxPool2D padding valido\n",
    "model.add(tf.keras.layers.Conv2D(filters=32, kernel_size=3, padding=\"same\", activation=\"relu\"))"
   ]
  },
  {
   "cell_type": "code",
   "execution_count": 11,
   "metadata": {},
   "outputs": [],
   "source": [
    "model.add(tf.keras.layers.MaxPool2D(pool_size=2, strides=2, padding='valid'))"
   ]
  },
  {
   "cell_type": "markdown",
   "metadata": {},
   "source": [
    "**Hyper parámetros de la capa de la RNC:**\n",
    "\n",
    "    Filtros: 64\n",
    "    Tamaño del kernel: 3\n",
    "    padding: same\n",
    "    Función de Activación: relu (Rectificadora lineal unitaria)\n",
    " \n",
    "Argumentos:\n",
    "\n",
    "    pool_size: entero o tupla de 2 enteros, factores por los cuales reducir la escala (vertical, horizontal). (2, 2) reducirá a la mitad la entrada en ambas dimensiones espaciales. Si solo se especifica un número entero, se utilizará la misma longitud de ventana para ambas dimensiones.\n",
    "    zancadas: entero, tupla de 2 enteros o ninguno. Strides valores. Si ninguno, por defecto será pool_size.\n",
    "    relleno: uno de 'válido' o 'igual' (no distingue entre mayúsculas y minúsculas).\n"
   ]
  },
  {
   "cell_type": "code",
   "execution_count": 12,
   "metadata": {},
   "outputs": [],
   "source": [
    "# Capa 3 :  Capa convolucional con el doble de filtros\n",
    "model.add(tf.keras.layers.Conv2D(filters=64, kernel_size=3, padding=\"same\", activation=\"relu\"))"
   ]
  },
  {
   "cell_type": "markdown",
   "metadata": {},
   "source": [
    "**Añadir la cuarta capa convolucional y la capa de max-pooling**\n",
    "\n",
    "Hyper parámetros de la capa de la RNC:\n",
    "\n",
    "    Filtros: 64\n",
    "    Tamaño del kernel: 3\n",
    "    padding: same\n",
    "    Función de Activación: relu\n",
    "\n",
    "Hyper parámetros de la capa de la MaxPool:\n",
    "\n",
    "    pool_size: 2\n",
    "    strides: 2\n",
    "    padding: valid\n"
   ]
  },
  {
   "cell_type": "code",
   "execution_count": 13,
   "metadata": {},
   "outputs": [],
   "source": [
    "# Capa 4 : Capa convolucional Conv2D de padding same y la Capa convolucional MaxPool2D padding valido\n",
    "model.add(tf.keras.layers.Conv2D(filters=64, kernel_size=3, padding='same', activation='relu'))"
   ]
  },
  {
   "cell_type": "code",
   "execution_count": 14,
   "metadata": {},
   "outputs": [],
   "source": [
    "model.add(tf.keras.layers.MaxPool2D(pool_size=2, strides=2, padding='valid'))"
   ]
  },
  {
   "cell_type": "markdown",
   "metadata": {},
   "source": [
    "**Añadir la capa de flattening**"
   ]
  },
  {
   "cell_type": "markdown",
   "metadata": {},
   "source": [
    "<font color=gray>Sigue siendo una imagen 2d con tres canales de color, por eso FLatten() aplana las imagenes, las convierte en un vector de datos aplanados, una vez que han sido filtrados y reducidos, esta sera la capa de entrada de una red neuronal **totalmente conectada por tanto la fase de convolución es un añadido que se le coloca a una red neuronal artificial antes de la entrada, para contruir a partir de las imagenes sus convoluciones y aplanar ese resultado para que sea la entrada.**</font>"
   ]
  },
  {
   "cell_type": "code",
   "execution_count": 15,
   "metadata": {},
   "outputs": [],
   "source": [
    "model.add(tf.keras.layers.Flatten())"
   ]
  },
  {
   "cell_type": "markdown",
   "metadata": {},
   "source": [
    "**Añadir la primera capa fully-connected**\n",
    "\n",
    "Hyper parámetros de la capa totalmente conectada:\n",
    "\n",
    "    units/neurons: 128\n",
    "    activation: relu\n"
   ]
  },
  {
   "cell_type": "code",
   "execution_count": 16,
   "metadata": {},
   "outputs": [],
   "source": [
    "# Capa 5 : RNA totalmente conectada \n",
    "model.add(tf.keras.layers.Dense(units=128, activation='relu'))"
   ]
  },
  {
   "cell_type": "markdown",
   "metadata": {},
   "source": [
    "**Añadir la capa de salida**\n",
    "\n",
    "Hyper parámetros de la capa totalmente conectada:\n",
    "\n",
    "    units/neurons: 10 (number of classes)\n",
    "    activation: softmax\n"
   ]
  },
  {
   "cell_type": "code",
   "execution_count": 17,
   "metadata": {},
   "outputs": [],
   "source": [
    "model.add(tf.keras.layers.Dense(units=10, activation='softmax'))"
   ]
  },
  {
   "cell_type": "code",
   "execution_count": 18,
   "metadata": {},
   "outputs": [
    {
     "name": "stdout",
     "output_type": "stream",
     "text": [
      "Model: \"sequential\"\n",
      "_________________________________________________________________\n",
      "Layer (type)                 Output Shape              Param #   \n",
      "=================================================================\n",
      "conv2d (Conv2D)              (None, 32, 32, 32)        896       \n",
      "_________________________________________________________________\n",
      "conv2d_1 (Conv2D)            (None, 32, 32, 32)        9248      \n",
      "_________________________________________________________________\n",
      "max_pooling2d (MaxPooling2D) (None, 16, 16, 32)        0         \n",
      "_________________________________________________________________\n",
      "conv2d_2 (Conv2D)            (None, 16, 16, 64)        18496     \n",
      "_________________________________________________________________\n",
      "conv2d_3 (Conv2D)            (None, 16, 16, 64)        36928     \n",
      "_________________________________________________________________\n",
      "max_pooling2d_1 (MaxPooling2 (None, 8, 8, 64)          0         \n",
      "_________________________________________________________________\n",
      "flatten (Flatten)            (None, 4096)              0         \n",
      "_________________________________________________________________\n",
      "dense (Dense)                (None, 128)               524416    \n",
      "_________________________________________________________________\n",
      "dense_1 (Dense)              (None, 10)                1290      \n",
      "=================================================================\n",
      "Total params: 591,274\n",
      "Trainable params: 591,274\n",
      "Non-trainable params: 0\n",
      "_________________________________________________________________\n"
     ]
    }
   ],
   "source": [
    "model.summary()"
   ]
  },
  {
   "cell_type": "markdown",
   "metadata": {},
   "source": [
    "<font color=gray>Compilar el modelos arse_categorical_accuracy comprueba si el valor verdadero maximal coincide con el índice maximal del valor de la predicción. El **optimizador** es la herramienta que nos permite llevar a cabo el gradiende de descenso estocastico, que actualiza los pesos cada vez que hace una propagación hacia atras. Que ademas reduce la perdida: es  el error entre la predicción del modelo y el dato original.\n",
    "https://stackoverflow.com/questions/44477489/keras-difference-between-categorical-accuracy-and-sparse-categorical-accuracy</font>"
   ]
  },
  {
   "cell_type": "code",
   "execution_count": 19,
   "metadata": {},
   "outputs": [],
   "source": [
    "# Comilando el modelo.\n",
    "model.compile(loss='sparse_categorical_crossentropy', optimizer='Adam', metrics=['sparse_categorical_accuracy'] )"
   ]
  },
  {
   "cell_type": "code",
   "execution_count": 20,
   "metadata": {},
   "outputs": [
    {
     "name": "stdout",
     "output_type": "stream",
     "text": [
      "Train on 50000 samples\n",
      "Epoch 1/5\n",
      "50000/50000 [==============================] - 145s 3ms/sample - loss: 1.3579 - sparse_categorical_accuracy: 0.5115\n",
      "Epoch 2/5\n",
      "50000/50000 [==============================] - 147s 3ms/sample - loss: 0.8992 - sparse_categorical_accuracy: 0.6850\n",
      "Epoch 3/5\n",
      "50000/50000 [==============================] - 145s 3ms/sample - loss: 0.7324 - sparse_categorical_accuracy: 0.7452\n",
      "Epoch 4/5\n",
      "50000/50000 [==============================] - 150s 3ms/sample - loss: 0.6173 - sparse_categorical_accuracy: 0.7832\n",
      "Epoch 5/5\n",
      "50000/50000 [==============================] - 151s 3ms/sample - loss: 0.5106 - sparse_categorical_accuracy: 0.8206s - loss: 0.5105 - sparse_categorical_accuracy - ETA: 4s - loss:\n"
     ]
    },
    {
     "data": {
      "text/plain": [
       "<tensorflow.python.keras.callbacks.History at 0x1eed0b8b608>"
      ]
     },
     "execution_count": 20,
     "metadata": {},
     "output_type": "execute_result"
    }
   ],
   "source": [
    "# Entrenar el modelo\n",
    "model.fit(X_train, y_train, epochs = 5)"
   ]
  },
  {
   "cell_type": "code",
   "execution_count": 21,
   "metadata": {},
   "outputs": [
    {
     "name": "stdout",
     "output_type": "stream",
     "text": [
      "10000/10000 [==============================] - 7s 657us/sample - loss: 0.7694 - sparse_categorical_accuracy: 0.7420\n"
     ]
    }
   ],
   "source": [
    "test_loss, test_accuracy = model.evaluate(X_test, y_test)"
   ]
  },
  {
   "cell_type": "code",
   "execution_count": 22,
   "metadata": {},
   "outputs": [
    {
     "name": "stdout",
     "output_type": "stream",
     "text": [
      "Test Accuracy: 0.7419999837875366\n"
     ]
    }
   ],
   "source": [
    "print(\"Test Accuracy: {}\".format(test_accuracy))"
   ]
  },
  {
   "cell_type": "code",
   "execution_count": null,
   "metadata": {},
   "outputs": [],
   "source": []
  }
 ],
 "metadata": {
  "kernelspec": {
   "display_name": "Python 3",
   "language": "python",
   "name": "python3"
  },
  "language_info": {
   "codemirror_mode": {
    "name": "ipython",
    "version": 3
   },
   "file_extension": ".py",
   "mimetype": "text/x-python",
   "name": "python",
   "nbconvert_exporter": "python",
   "pygments_lexer": "ipython3",
   "version": "3.7.7"
  }
 },
 "nbformat": 4,
 "nbformat_minor": 2
}
